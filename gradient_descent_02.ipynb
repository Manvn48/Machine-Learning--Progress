{
 "cells": [
  {
   "cell_type": "code",
   "execution_count": 22,
   "id": "01430c39",
   "metadata": {},
   "outputs": [],
   "source": [
    "import pandas as pd\n",
    "import numpy as np\n",
    "from matplotlib import pyplot as plt"
   ]
  },
  {
   "cell_type": "code",
   "execution_count": 23,
   "id": "874d1c56",
   "metadata": {},
   "outputs": [],
   "source": [
    "df = pd.read_csv(\"homeprices_banglore.csv\")\n",
    "X = df.iloc[:, :-1]\n",
    "y = df.iloc[:, -1]"
   ]
  },
  {
   "cell_type": "code",
   "execution_count": 24,
   "id": "4753dcca",
   "metadata": {},
   "outputs": [
    {
     "data": {
      "text/html": [
       "<div>\n",
       "<style scoped>\n",
       "    .dataframe tbody tr th:only-of-type {\n",
       "        vertical-align: middle;\n",
       "    }\n",
       "\n",
       "    .dataframe tbody tr th {\n",
       "        vertical-align: top;\n",
       "    }\n",
       "\n",
       "    .dataframe thead th {\n",
       "        text-align: right;\n",
       "    }\n",
       "</style>\n",
       "<table border=\"1\" class=\"dataframe\">\n",
       "  <thead>\n",
       "    <tr style=\"text-align: right;\">\n",
       "      <th></th>\n",
       "      <th>area</th>\n",
       "      <th>bedrooms</th>\n",
       "    </tr>\n",
       "  </thead>\n",
       "  <tbody>\n",
       "    <tr>\n",
       "      <th>0</th>\n",
       "      <td>1056</td>\n",
       "      <td>2</td>\n",
       "    </tr>\n",
       "    <tr>\n",
       "      <th>1</th>\n",
       "      <td>2600</td>\n",
       "      <td>4</td>\n",
       "    </tr>\n",
       "    <tr>\n",
       "      <th>2</th>\n",
       "      <td>1440</td>\n",
       "      <td>3</td>\n",
       "    </tr>\n",
       "    <tr>\n",
       "      <th>3</th>\n",
       "      <td>1521</td>\n",
       "      <td>3</td>\n",
       "    </tr>\n",
       "    <tr>\n",
       "      <th>4</th>\n",
       "      <td>1200</td>\n",
       "      <td>2</td>\n",
       "    </tr>\n",
       "    <tr>\n",
       "      <th>5</th>\n",
       "      <td>1170</td>\n",
       "      <td>2</td>\n",
       "    </tr>\n",
       "    <tr>\n",
       "      <th>6</th>\n",
       "      <td>2732</td>\n",
       "      <td>4</td>\n",
       "    </tr>\n",
       "    <tr>\n",
       "      <th>7</th>\n",
       "      <td>3300</td>\n",
       "      <td>4</td>\n",
       "    </tr>\n",
       "    <tr>\n",
       "      <th>8</th>\n",
       "      <td>1310</td>\n",
       "      <td>3</td>\n",
       "    </tr>\n",
       "    <tr>\n",
       "      <th>9</th>\n",
       "      <td>3700</td>\n",
       "      <td>5</td>\n",
       "    </tr>\n",
       "    <tr>\n",
       "      <th>10</th>\n",
       "      <td>1800</td>\n",
       "      <td>3</td>\n",
       "    </tr>\n",
       "    <tr>\n",
       "      <th>11</th>\n",
       "      <td>2785</td>\n",
       "      <td>4</td>\n",
       "    </tr>\n",
       "    <tr>\n",
       "      <th>12</th>\n",
       "      <td>1000</td>\n",
       "      <td>2</td>\n",
       "    </tr>\n",
       "    <tr>\n",
       "      <th>13</th>\n",
       "      <td>1100</td>\n",
       "      <td>2</td>\n",
       "    </tr>\n",
       "    <tr>\n",
       "      <th>14</th>\n",
       "      <td>2250</td>\n",
       "      <td>3</td>\n",
       "    </tr>\n",
       "    <tr>\n",
       "      <th>15</th>\n",
       "      <td>1175</td>\n",
       "      <td>2</td>\n",
       "    </tr>\n",
       "    <tr>\n",
       "      <th>16</th>\n",
       "      <td>1180</td>\n",
       "      <td>3</td>\n",
       "    </tr>\n",
       "    <tr>\n",
       "      <th>17</th>\n",
       "      <td>1540</td>\n",
       "      <td>3</td>\n",
       "    </tr>\n",
       "    <tr>\n",
       "      <th>18</th>\n",
       "      <td>2770</td>\n",
       "      <td>3</td>\n",
       "    </tr>\n",
       "    <tr>\n",
       "      <th>19</th>\n",
       "      <td>800</td>\n",
       "      <td>1</td>\n",
       "    </tr>\n",
       "  </tbody>\n",
       "</table>\n",
       "</div>"
      ],
      "text/plain": [
       "    area  bedrooms\n",
       "0   1056         2\n",
       "1   2600         4\n",
       "2   1440         3\n",
       "3   1521         3\n",
       "4   1200         2\n",
       "5   1170         2\n",
       "6   2732         4\n",
       "7   3300         4\n",
       "8   1310         3\n",
       "9   3700         5\n",
       "10  1800         3\n",
       "11  2785         4\n",
       "12  1000         2\n",
       "13  1100         2\n",
       "14  2250         3\n",
       "15  1175         2\n",
       "16  1180         3\n",
       "17  1540         3\n",
       "18  2770         3\n",
       "19   800         1"
      ]
     },
     "execution_count": 24,
     "metadata": {},
     "output_type": "execute_result"
    }
   ],
   "source": [
    "X"
   ]
  },
  {
   "cell_type": "code",
   "execution_count": 25,
   "id": "6498221e",
   "metadata": {
    "scrolled": true
   },
   "outputs": [
    {
     "data": {
      "text/plain": [
       "0      39.07\n",
       "1     120.00\n",
       "2      62.00\n",
       "3      75.00\n",
       "4      51.00\n",
       "5      38.00\n",
       "6     135.00\n",
       "7     155.00\n",
       "8      50.00\n",
       "9     167.00\n",
       "10     82.00\n",
       "11    140.00\n",
       "12     38.00\n",
       "13     40.00\n",
       "14    101.00\n",
       "15     42.00\n",
       "16     48.00\n",
       "17     60.00\n",
       "18    102.00\n",
       "19     32.00\n",
       "Name: price, dtype: float64"
      ]
     },
     "execution_count": 25,
     "metadata": {},
     "output_type": "execute_result"
    }
   ],
   "source": [
    "y"
   ]
  },
  {
   "cell_type": "code",
   "execution_count": 26,
   "id": "c37c1300",
   "metadata": {},
   "outputs": [
    {
     "data": {
      "text/html": [
       "<div>\n",
       "<style scoped>\n",
       "    .dataframe tbody tr th:only-of-type {\n",
       "        vertical-align: middle;\n",
       "    }\n",
       "\n",
       "    .dataframe tbody tr th {\n",
       "        vertical-align: top;\n",
       "    }\n",
       "\n",
       "    .dataframe thead th {\n",
       "        text-align: right;\n",
       "    }\n",
       "</style>\n",
       "<table border=\"1\" class=\"dataframe\">\n",
       "  <thead>\n",
       "    <tr style=\"text-align: right;\">\n",
       "      <th></th>\n",
       "      <th>area</th>\n",
       "      <th>bedrooms</th>\n",
       "      <th>price</th>\n",
       "    </tr>\n",
       "  </thead>\n",
       "  <tbody>\n",
       "    <tr>\n",
       "      <th>0</th>\n",
       "      <td>1056</td>\n",
       "      <td>2</td>\n",
       "      <td>39.07</td>\n",
       "    </tr>\n",
       "    <tr>\n",
       "      <th>1</th>\n",
       "      <td>2600</td>\n",
       "      <td>4</td>\n",
       "      <td>120.00</td>\n",
       "    </tr>\n",
       "    <tr>\n",
       "      <th>2</th>\n",
       "      <td>1440</td>\n",
       "      <td>3</td>\n",
       "      <td>62.00</td>\n",
       "    </tr>\n",
       "    <tr>\n",
       "      <th>3</th>\n",
       "      <td>1521</td>\n",
       "      <td>3</td>\n",
       "      <td>75.00</td>\n",
       "    </tr>\n",
       "    <tr>\n",
       "      <th>4</th>\n",
       "      <td>1200</td>\n",
       "      <td>2</td>\n",
       "      <td>51.00</td>\n",
       "    </tr>\n",
       "  </tbody>\n",
       "</table>\n",
       "</div>"
      ],
      "text/plain": [
       "   area  bedrooms   price\n",
       "0  1056         2   39.07\n",
       "1  2600         4  120.00\n",
       "2  1440         3   62.00\n",
       "3  1521         3   75.00\n",
       "4  1200         2   51.00"
      ]
     },
     "execution_count": 26,
     "metadata": {},
     "output_type": "execute_result"
    }
   ],
   "source": [
    "df.head()"
   ]
  },
  {
   "cell_type": "code",
   "execution_count": 27,
   "id": "c02322a3",
   "metadata": {},
   "outputs": [
    {
     "data": {
      "text/plain": [
       "20"
      ]
     },
     "execution_count": 27,
     "metadata": {},
     "output_type": "execute_result"
    }
   ],
   "source": [
    "df.shape[0]"
   ]
  },
  {
   "cell_type": "code",
   "execution_count": null,
   "id": "ead95b9c",
   "metadata": {},
   "outputs": [],
   "source": []
  },
  {
   "cell_type": "code",
   "execution_count": 42,
   "id": "69946ad6",
   "metadata": {},
   "outputs": [
    {
     "data": {
      "text/plain": [
       "array([[0.08827586, 0.25      ],\n",
       "       [0.62068966, 0.75      ],\n",
       "       [0.22068966, 0.5       ],\n",
       "       [0.24862069, 0.5       ],\n",
       "       [0.13793103, 0.25      ],\n",
       "       [0.12758621, 0.25      ],\n",
       "       [0.6662069 , 0.75      ],\n",
       "       [0.86206897, 0.75      ],\n",
       "       [0.17586207, 0.5       ],\n",
       "       [1.        , 1.        ],\n",
       "       [0.34482759, 0.5       ],\n",
       "       [0.68448276, 0.75      ],\n",
       "       [0.06896552, 0.25      ],\n",
       "       [0.10344828, 0.25      ],\n",
       "       [0.5       , 0.5       ],\n",
       "       [0.12931034, 0.25      ],\n",
       "       [0.13103448, 0.5       ],\n",
       "       [0.25517241, 0.5       ],\n",
       "       [0.67931034, 0.5       ],\n",
       "       [0.        , 0.        ]])"
      ]
     },
     "execution_count": 42,
     "metadata": {},
     "output_type": "execute_result"
    }
   ],
   "source": [
    "from sklearn import preprocessing\n",
    "\n",
    "sx = preprocessing.MinMaxScaler()\n",
    "sy = preprocessing.MinMaxScaler()\n",
    "\n",
    "scaled_X = sx.fit_transform(df.drop('price',axis='columns'))\n",
    "scaled_y = sy.fit_transform(df['price'].values.reshape(df.shape[0],1))\n",
    "# here since it only takes 2d arrray so first we convert df['price'] into numy array using .values and then making n0. of rows \n",
    "# equal to that of dataframe i.e df.shape[0] and 1 column\n",
    "scaled_X"
   ]
  },
  {
   "cell_type": "code",
   "execution_count": 43,
   "id": "469b77b1",
   "metadata": {},
   "outputs": [
    {
     "data": {
      "text/plain": [
       "array([[0.05237037],\n",
       "       [0.65185185],\n",
       "       [0.22222222],\n",
       "       [0.31851852],\n",
       "       [0.14074074],\n",
       "       [0.04444444],\n",
       "       [0.76296296],\n",
       "       [0.91111111],\n",
       "       [0.13333333],\n",
       "       [1.        ],\n",
       "       [0.37037037],\n",
       "       [0.8       ],\n",
       "       [0.04444444],\n",
       "       [0.05925926],\n",
       "       [0.51111111],\n",
       "       [0.07407407],\n",
       "       [0.11851852],\n",
       "       [0.20740741],\n",
       "       [0.51851852],\n",
       "       [0.        ]])"
      ]
     },
     "execution_count": 43,
     "metadata": {},
     "output_type": "execute_result"
    }
   ],
   "source": [
    "scaled_y"
   ]
  },
  {
   "cell_type": "code",
   "execution_count": null,
   "id": "76889a69",
   "metadata": {},
   "outputs": [],
   "source": []
  },
  {
   "cell_type": "code",
   "execution_count": 30,
   "id": "d191a9b9",
   "metadata": {},
   "outputs": [
    {
     "data": {
      "text/plain": [
       "(array([0.70712464, 0.67456527]), -0.23034857438407427, 0.0068641890429808105)"
      ]
     },
     "execution_count": 30,
     "metadata": {},
     "output_type": "execute_result"
    }
   ],
   "source": [
    "def BGD(X, y_true ,epochs , Learning_rate = 0.01):\n",
    "    no_of_features = X.shape[1]\n",
    "    \n",
    "    total_samples = X.shape[0]\n",
    "    w = np.ones(shape=(no_of_features))\n",
    "    b = 0\n",
    "    \n",
    "    cost_list = []\n",
    "    epoch_list = []\n",
    "    for i in range(epochs):\n",
    "        y_pred = np.dot(w,X.T) + b\n",
    "        \n",
    "        w_grad = (-2/total_samples)*X.T.dot(y_true-y_pred)\n",
    "        b_grad = (-2/total_samples)*np.sum(y_true-y_pred)\n",
    "        \n",
    "        w = w - Learning_rate * w_grad\n",
    "        b = b - Learning_rate * b_grad\n",
    "        \n",
    "        cost = np.mean(np.square(y_true-y_pred))\n",
    "        if i%10==0:\n",
    "            cost_list.append(cost)\n",
    "            epoch_list.append(i)\n",
    "        \n",
    "    return w, b, cost, cost_list, epoch_list\n",
    "\n",
    "w, b, cost, cost_list, epoch_list = BGD(scaled_X,scaled_y.reshape(scaled_y.shape[0],),500)\n",
    "w, b, cost\n",
    "        \n"
   ]
  },
  {
   "cell_type": "code",
   "execution_count": 31,
   "id": "cb04eb7a",
   "metadata": {},
   "outputs": [
    {
     "data": {
      "text/plain": [
       "[<matplotlib.lines.Line2D at 0x1d4f3921880>]"
      ]
     },
     "execution_count": 31,
     "metadata": {},
     "output_type": "execute_result"
    },
    {
     "data": {
      "image/png": "[encoded data removed]",
      "text/plain": [
       "<Figure size 640x480 with 1 Axes>"
      ]
     },
     "metadata": {},
     "output_type": "display_data"
    }
   ],
   "source": [
    "plt.xlabel(\"epoch\")\n",
    "plt.ylabel(\"Cost\")\n",
    "plt.plot(epoch_list,cost_list)"
   ]
  },
  {
   "cell_type": "code",
   "execution_count": 32,
   "id": "0898825c",
   "metadata": {},
   "outputs": [
    {
     "name": "stderr",
     "output_type": "stream",
     "text": [
      "C:\\Users\\manur\\anaconda3\\lib\\site-packages\\sklearn\\base.py:450: UserWarning: X does not have valid feature names, but MinMaxScaler was fitted with feature names\n",
      "  warnings.warn(\n"
     ]
    },
    {
     "data": {
      "text/plain": [
       "128.45484403267596"
      ]
     },
     "execution_count": 32,
     "metadata": {},
     "output_type": "execute_result"
    }
   ],
   "source": [
    "def predict(area,bedrooms,w,b):\n",
    "    scaled_X = sx.transform([[area, bedrooms]])[0]\n",
    "    # here w1 = w[0] , w2 = w[1], w3 = w[2] and bias is b\n",
    "    # equation for price is w1*area + w2*bedrooms + w3*age + bias\n",
    "    # scaled_X[0] is area\n",
    "    # scaled_X[1] is bedrooms\n",
    "    # scaled_X[2] is age\n",
    "    scaled_price = w[0] * scaled_X[0] + w[1] * scaled_X[1] + b\n",
    "    # once we get price prediction we need to to rescal it back to original value\n",
    "    # also since it returns 2D array, to get single value we need to do value[0][0]\n",
    "    return sy.inverse_transform([[scaled_price]])[0][0]\n",
    "\n",
    "predict(2600,4,w,b)"
   ]
  },
  {
   "cell_type": "code",
   "execution_count": 33,
   "id": "e925d9a5",
   "metadata": {},
   "outputs": [
    {
     "name": "stderr",
     "output_type": "stream",
     "text": [
      "C:\\Users\\manur\\anaconda3\\lib\\site-packages\\sklearn\\base.py:450: UserWarning: X does not have valid feature names, but MinMaxScaler was fitted with feature names\n",
      "  warnings.warn(\n"
     ]
    },
    {
     "data": {
      "text/plain": [
       "30.253094462442355"
      ]
     },
     "execution_count": 33,
     "metadata": {},
     "output_type": "execute_result"
    }
   ],
   "source": [
    "predict(1000,2,w,b)"
   ]
  },
  {
   "cell_type": "code",
   "execution_count": null,
   "id": "2e45de43",
   "metadata": {
    "scrolled": true
   },
   "outputs": [],
   "source": []
  },
  {
   "cell_type": "code",
   "execution_count": 34,
   "id": "8bcaa855",
   "metadata": {},
   "outputs": [],
   "source": [
    "import math"
   ]
  },
  {
   "cell_type": "code",
   "execution_count": 35,
   "id": "6749068a",
   "metadata": {},
   "outputs": [
    {
     "data": {
      "text/plain": [
       "20"
      ]
     },
     "execution_count": 35,
     "metadata": {},
     "output_type": "execute_result"
    }
   ],
   "source": [
    "X.shape[0]"
   ]
  },
  {
   "cell_type": "code",
   "execution_count": 36,
   "id": "0fffa881",
   "metadata": {},
   "outputs": [
    {
     "data": {
      "text/plain": [
       "2"
      ]
     },
     "execution_count": 36,
     "metadata": {},
     "output_type": "execute_result"
    }
   ],
   "source": [
    "X.shape[1]"
   ]
  },
  {
   "cell_type": "code",
   "execution_count": null,
   "id": "271b3576",
   "metadata": {},
   "outputs": [],
   "source": []
  },
  {
   "cell_type": "code",
   "execution_count": 37,
   "id": "215daee5",
   "metadata": {},
   "outputs": [
    {
     "name": "stdout",
     "output_type": "stream",
     "text": [
      "Epoch : 0\n",
      "Loss : 1.0\n",
      "Epoch : 100\n",
      "Loss : 0.4273203685672443\n",
      "Epoch : 200\n",
      "Loss : 0.10368066864393805\n",
      "Epoch : 300\n",
      "Loss : 0.482008736330256\n",
      "Epoch : 400\n",
      "Loss : 0.38533767940306946\n",
      "Epoch : 500\n",
      "Loss : 0.06132640446537192\n",
      "Epoch : 600\n",
      "Loss : 0.05888203808759052\n",
      "Epoch : 700\n",
      "Loss : 0.22158378199550724\n",
      "Epoch : 800\n",
      "Loss : 0.059476449699325806\n",
      "Epoch : 900\n",
      "Loss : 0.1404161326646923\n",
      "Epoch : 1000\n",
      "Loss : 0.20583201488514938\n",
      "Epoch : 1100\n",
      "Loss : 0.13168471156050215\n",
      "Epoch : 1200\n",
      "Loss : 0.1597368766753655\n",
      "Epoch : 1300\n",
      "Loss : 0.043638177993025294\n",
      "Epoch : 1400\n",
      "Loss : 0.15881025865634454\n",
      "Epoch : 1500\n",
      "Loss : 0.2105421432124177\n",
      "Epoch : 1600\n",
      "Loss : 0.004514366934649962\n",
      "Epoch : 1700\n",
      "Loss : 0.260951719089104\n",
      "Epoch : 1800\n",
      "Loss : 0.2737595687460651\n",
      "Epoch : 1900\n",
      "Loss : 0.19129325027457086\n",
      "Epoch : 2000\n",
      "Loss : 0.03171273263956787\n",
      "Epoch : 2100\n",
      "Loss : 0.25438761140415506\n",
      "Epoch : 2200\n",
      "Loss : 0.17843453962902853\n",
      "Epoch : 2300\n",
      "Loss : 0.28204678328080646\n",
      "Epoch : 2400\n",
      "Loss : 0.03221278152765741\n",
      "Epoch : 2500\n",
      "Loss : 0.1655772588147147\n",
      "Epoch : 2600\n",
      "Loss : 0.1619824579451084\n",
      "Epoch : 2700\n",
      "Loss : 0.0789177976005865\n",
      "Epoch : 2800\n",
      "Loss : 0.23489968657046084\n",
      "Epoch : 2900\n",
      "Loss : 0.09643373696359928\n",
      "Epoch : 3000\n",
      "Loss : 0.23674944609890938\n",
      "Epoch : 3100\n",
      "Loss : 0.26244851634063027\n",
      "Epoch : 3200\n",
      "Loss : 0.019772944421724212\n",
      "Epoch : 3300\n",
      "Loss : 0.06429084544600354\n",
      "Epoch : 3400\n",
      "Loss : 0.01531995051450656\n",
      "Epoch : 3500\n",
      "Loss : 0.24162635067821045\n",
      "Epoch : 3600\n",
      "Loss : 0.029315907719430552\n",
      "Epoch : 3700\n",
      "Loss : 0.15416025811059159\n",
      "Epoch : 3800\n",
      "Loss : 0.09190461142719855\n",
      "Epoch : 3900\n",
      "Loss : 0.08943875791586343\n",
      "Epoch : 4000\n",
      "Loss : 0.02106278232311018\n",
      "Epoch : 4100\n",
      "Loss : 0.15403203334421062\n",
      "Epoch : 4200\n",
      "Loss : 0.011323829078408018\n",
      "Epoch : 4300\n",
      "Loss : 0.01067105254361448\n",
      "Epoch : 4400\n",
      "Loss : 0.19946820584970595\n",
      "Epoch : 4500\n",
      "Loss : 0.009443564334709208\n",
      "Epoch : 4600\n",
      "Loss : 0.10177488132338458\n",
      "Epoch : 4700\n",
      "Loss : 0.055348411986388873\n",
      "Epoch : 4800\n",
      "Loss : 0.15407510166091162\n",
      "Epoch : 4900\n",
      "Loss : 0.09543245372611939\n",
      "Epoch : 5000\n",
      "Loss : 0.005246472124793253\n",
      "Epoch : 5100\n",
      "Loss : 0.001325442099876671\n",
      "Epoch : 5200\n",
      "Loss : 0.04725213039617462\n",
      "Epoch : 5300\n",
      "Loss : 0.00809543165817957\n",
      "Epoch : 5400\n",
      "Loss : 0.11150062718454515\n",
      "Epoch : 5500\n",
      "Loss : 0.09587264822768828\n",
      "Epoch : 5600\n",
      "Loss : 0.05699059329762998\n",
      "Epoch : 5700\n",
      "Loss : 0.055534930873390065\n",
      "Epoch : 5800\n",
      "Loss : 0.1242895736567559\n",
      "Epoch : 5900\n",
      "Loss : 0.004348925411788826\n",
      "Epoch : 6000\n",
      "Loss : 0.1450994306495921\n",
      "Epoch : 6100\n",
      "Loss : 0.0037300396530774984\n",
      "Epoch : 6200\n",
      "Loss : 0.038353717525878024\n",
      "Epoch : 6300\n",
      "Loss : 0.07822092759788787\n",
      "Epoch : 6400\n",
      "Loss : 0.1344151104108171\n",
      "Epoch : 6500\n",
      "Loss : 0.031479751919415745\n",
      "Epoch : 6600\n",
      "Loss : 0.030496719542064\n",
      "Epoch : 6700\n",
      "Loss : 0.02930465398909233\n",
      "Epoch : 6800\n",
      "Loss : 0.002952823295622162\n",
      "Epoch : 6900\n",
      "Loss : 0.027468289086343817\n",
      "Epoch : 7000\n",
      "Loss : 0.06597399497501674\n",
      "Epoch : 7100\n",
      "Loss : 0.005656661344080646\n",
      "Epoch : 7200\n",
      "Loss : 0.07340355393992205\n",
      "Epoch : 7300\n",
      "Loss : 0.0150013900175122\n",
      "Epoch : 7400\n",
      "Loss : 0.00070916943489106\n",
      "Epoch : 7500\n",
      "Loss : 0.023100402893021958\n",
      "Epoch : 7600\n",
      "Loss : 0.05414650756020738\n",
      "Epoch : 7700\n",
      "Loss : 0.0551576879460576\n",
      "Epoch : 7800\n",
      "Loss : 0.012233845125249995\n",
      "Epoch : 7900\n",
      "Loss : 0.003543014683303767\n",
      "Epoch : 8000\n",
      "Loss : 0.27124578319151915\n",
      "Epoch : 8100\n",
      "Loss : 0.05171659174510395\n",
      "Epoch : 8200\n",
      "Loss : 4.7812861742027995e-06\n",
      "Epoch : 8300\n",
      "Loss : 0.03837317042601354\n",
      "Epoch : 8400\n",
      "Loss : 0.05579860535368989\n",
      "Epoch : 8500\n",
      "Loss : 0.09257958651883504\n",
      "Epoch : 8600\n",
      "Loss : 2.0711946291685587e-05\n",
      "Epoch : 8700\n",
      "Loss : 0.002073471619425038\n",
      "Epoch : 8800\n",
      "Loss : 1.6994313860491484e-06\n",
      "Epoch : 8900\n",
      "Loss : 0.03389341420858239\n",
      "Epoch : 9000\n",
      "Loss : 2.820316413516455e-06\n",
      "Epoch : 9100\n",
      "Loss : 0.024158363155039848\n",
      "Epoch : 9200\n",
      "Loss : 0.0585640862338417\n",
      "Epoch : 9300\n",
      "Loss : 0.0013070707856661144\n",
      "Epoch : 9400\n",
      "Loss : 0.03077074833554928\n",
      "Epoch : 9500\n",
      "Loss : 0.07826297281335542\n",
      "Epoch : 9600\n",
      "Loss : 1.0592796384440711e-05\n",
      "Epoch : 9700\n",
      "Loss : 3.714979383224865e-05\n",
      "Epoch : 9800\n",
      "Loss : 0.04977939101461762\n",
      "Epoch : 9900\n",
      "Loss : 0.039584615578237975\n"
     ]
    },
    {
     "data": {
      "text/plain": [
       "(array([0.87017854, 0.84186648]), -0.251260477459569, 0.004557260814650604)"
      ]
     },
     "execution_count": 37,
     "metadata": {},
     "output_type": "execute_result"
    }
   ],
   "source": [
    "import random\n",
    "def SGD(X, y_true ,epochs, L = 0.001):\n",
    "   \n",
    "    number_of_features = X.shape[1]\n",
    "\n",
    "    w=np.ones(shape=( number_of_features))\n",
    "    c=0\n",
    "    total_samples = X.shape[0]\n",
    "    \n",
    "    cost_list=[]\n",
    "    epoch_list=[]\n",
    "    \n",
    "    for i in range(epochs):\n",
    "        random_index = random.randint(0,total_samples-1)\n",
    "        sample_x = X[random_index]\n",
    "        sample_y = y_true[random_index]\n",
    "        \n",
    "        y_pred = np.dot(w,sample_x.T) + c\n",
    "        \n",
    "        d_w = (-2/total_samples)*(sample_x.T.dot(sample_y-y_pred))\n",
    "        d_c = (-2/total_samples)*(sample_y-y_pred)\n",
    "        \n",
    "        w = w - L*d_w\n",
    "        c = c - L*d_c\n",
    "        \n",
    "        cost = np.mean(np.square(sample_y-y_pred))\n",
    "        \n",
    "        if i%100==0:\n",
    "            cost_list.append(cost)\n",
    "            epoch_list.append(i)\n",
    "            print(f\"Epoch : {i}\")\n",
    "            print(f\"Loss : {cost}\")\n",
    "            \n",
    "        \n",
    "    return w , c , cost , cost_list , epoch_list\n",
    "w_sgd, b_sgd, cost_sgd, cost_list_sgd, epoch_list_sgd = SGD(scaled_X,scaled_y.reshape(scaled_y.shape[0],),10000)\n",
    "w_sgd, b_sgd, cost_sgd\n",
    "\n",
    "        "
   ]
  },
  {
   "cell_type": "code",
   "execution_count": 38,
   "id": "e2b4d162",
   "metadata": {},
   "outputs": [
    {
     "data": {
      "text/plain": [
       "(array([0.70712464, 0.67456527]), -0.23034857438407427, 0.0068641890429808105)"
      ]
     },
     "execution_count": 38,
     "metadata": {},
     "output_type": "execute_result"
    }
   ],
   "source": [
    "w, b, cost"
   ]
  },
  {
   "cell_type": "code",
   "execution_count": null,
   "id": "1641f465",
   "metadata": {},
   "outputs": [],
   "source": []
  },
  {
   "cell_type": "code",
   "execution_count": 39,
   "id": "8b7ea0a7",
   "metadata": {},
   "outputs": [
    {
     "data": {
      "text/plain": [
       "(array([0.71000291, 0.67800977]), -0.23339545811851323, 0.005018156711413356)"
      ]
     },
     "execution_count": 39,
     "metadata": {},
     "output_type": "execute_result"
    }
   ],
   "source": [
    "def mini_batch_gradient_descent(X, y_true, epochs = 100, batch_size = 5, learning_rate = 0.01):\n",
    "    \n",
    "    number_of_features = X.shape[1]\n",
    "    # numpy array with 1 row and columns equal to number of features. In \n",
    "    # our case number_of_features = 3 (area, bedroom and age)\n",
    "    w = np.ones(shape=(number_of_features)) \n",
    "    b = 0\n",
    "    total_samples = X.shape[0] # number of rows in X\n",
    "    \n",
    "    if batch_size > total_samples: # In this case mini batch becomes same as batch gradient descent\n",
    "        batch_size = total_samples\n",
    "        \n",
    "    cost_list = []\n",
    "    epoch_list = []\n",
    "    \n",
    "    num_batches = int(total_samples/batch_size)\n",
    "    \n",
    "    for i in range(epochs):    \n",
    "        random_indices = np.random.permutation(total_samples)\n",
    "        X_tmp = X[random_indices]\n",
    "        y_tmp = y_true[random_indices]\n",
    "        \n",
    "        for j in range(0,total_samples,batch_size):\n",
    "            Xj = X_tmp[j:j+batch_size]\n",
    "            yj = y_tmp[j:j+batch_size]\n",
    "            y_predicted = np.dot(w, Xj.T) + b\n",
    "            \n",
    "            w_grad = -(2/len(Xj))*(Xj.T.dot(yj-y_predicted))\n",
    "            b_grad = -(2/len(Xj))*np.sum(yj-y_predicted)\n",
    "            \n",
    "            w = w - learning_rate * w_grad\n",
    "            b = b - learning_rate * b_grad\n",
    "                \n",
    "            cost = np.mean(np.square(yj-y_predicted)) # MSE (Mean Squared Error)\n",
    "        \n",
    "        if i%10==0:\n",
    "            cost_list.append(cost)\n",
    "            epoch_list.append(i)\n",
    "        \n",
    "    return w, b, cost, cost_list, epoch_list\n",
    "\n",
    "w, b, cost, cost_list, epoch_list = mini_batch_gradient_descent(\n",
    "    scaled_X,\n",
    "    scaled_y.reshape(scaled_y.shape[0],),\n",
    "    epochs = 120,\n",
    "    batch_size = 5\n",
    ")\n",
    "w, b, cost"
   ]
  },
  {
   "cell_type": "code",
   "execution_count": 164,
   "id": "75ff7794",
   "metadata": {},
   "outputs": [
    {
     "data": {
      "text/plain": [
       "[<matplotlib.lines.Line2D at 0x1bac20247c0>]"
      ]
     },
     "execution_count": 164,
     "metadata": {},
     "output_type": "execute_result"
    },
    {
     "data": {
      "image/png": "[encoded data removed]",
      "text/plain": [
       "<Figure size 640x480 with 1 Axes>"
      ]
     },
     "metadata": {},
     "output_type": "display_data"
    }
   ],
   "source": [
    "plt.xlabel(\"epoch\")\n",
    "plt.ylabel(\"cost\")\n",
    "plt.plot(epoch_list,cost_list)"
   ]
  },
  {
   "cell_type": "code",
   "execution_count": null,
   "id": "50c7ff0b",
   "metadata": {},
   "outputs": [],
   "source": []
  }
 ],
 "metadata": {
  "kernelspec": {
   "display_name": "Python 3 (ipykernel)",
   "language": "python",
   "name": "python3"
  },
  "language_info": {
   "codemirror_mode": {
    "name": "ipython",
    "version": 3
   },
   "file_extension": ".py",
   "mimetype": "text/x-python",
   "name": "python",
   "nbconvert_exporter": "python",
   "pygments_lexer": "ipython3",
   "version": "3.9.13"
  }
 },
 "nbformat": 4,
 "nbformat_minor": 5
}
