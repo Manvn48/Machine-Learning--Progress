{
 "cells": [
  {
   "cell_type": "code",
   "execution_count": 4,
   "id": "d856ed15",
   "metadata": {},
   "outputs": [],
   "source": [
    "import pandas as pd\n",
    "import numpy as np\n",
    "from matplotlib import pyplot as plt\n",
    "from matplotlib import colors\n"
   ]
  },
  {
   "cell_type": "code",
   "execution_count": 5,
   "id": "62ab73d7",
   "metadata": {},
   "outputs": [],
   "source": [
    "np.random.seed(0)\n",
    "X = 2.5 * np.random.randn(100) + 1.5   # Array of 1000 values with mean = 1.5, stddev = 2.5\n",
    "res = 0.5 * np.random.randn(100)       # Generate 1000 residual terms\n",
    "y = 2 + 0.3 * X  + res "
   ]
  },
  {
   "cell_type": "code",
   "execution_count": 6,
   "id": "f43544ca",
   "metadata": {},
   "outputs": [],
   "source": [
    "df = pd.DataFrame({'X': X,'y': y})"
   ]
  },
  {
   "cell_type": "code",
   "execution_count": 7,
   "id": "79d14900",
   "metadata": {},
   "outputs": [
    {
     "data": {
      "text/html": [
       "<div>\n",
       "<style scoped>\n",
       "    .dataframe tbody tr th:only-of-type {\n",
       "        vertical-align: middle;\n",
       "    }\n",
       "\n",
       "    .dataframe tbody tr th {\n",
       "        vertical-align: top;\n",
       "    }\n",
       "\n",
       "    .dataframe thead th {\n",
       "        text-align: right;\n",
       "    }\n",
       "</style>\n",
       "<table border=\"1\" class=\"dataframe\">\n",
       "  <thead>\n",
       "    <tr style=\"text-align: right;\">\n",
       "      <th></th>\n",
       "      <th>X</th>\n",
       "      <th>y</th>\n",
       "    </tr>\n",
       "  </thead>\n",
       "  <tbody>\n",
       "    <tr>\n",
       "      <th>0</th>\n",
       "      <td>5.910131</td>\n",
       "      <td>4.714615</td>\n",
       "    </tr>\n",
       "    <tr>\n",
       "      <th>1</th>\n",
       "      <td>2.500393</td>\n",
       "      <td>2.076238</td>\n",
       "    </tr>\n",
       "    <tr>\n",
       "      <th>2</th>\n",
       "      <td>3.946845</td>\n",
       "      <td>2.548811</td>\n",
       "    </tr>\n",
       "    <tr>\n",
       "      <th>3</th>\n",
       "      <td>7.102233</td>\n",
       "      <td>4.615368</td>\n",
       "    </tr>\n",
       "    <tr>\n",
       "      <th>4</th>\n",
       "      <td>6.168895</td>\n",
       "      <td>3.264107</td>\n",
       "    </tr>\n",
       "    <tr>\n",
       "      <th>...</th>\n",
       "      <td>...</td>\n",
       "      <td>...</td>\n",
       "    </tr>\n",
       "    <tr>\n",
       "      <th>95</th>\n",
       "      <td>3.266433</td>\n",
       "      <td>2.894157</td>\n",
       "    </tr>\n",
       "    <tr>\n",
       "      <th>96</th>\n",
       "      <td>1.526250</td>\n",
       "      <td>2.843770</td>\n",
       "    </tr>\n",
       "    <tr>\n",
       "      <th>97</th>\n",
       "      <td>5.964676</td>\n",
       "      <td>4.201155</td>\n",
       "    </tr>\n",
       "    <tr>\n",
       "      <th>98</th>\n",
       "      <td>1.817280</td>\n",
       "      <td>3.626802</td>\n",
       "    </tr>\n",
       "    <tr>\n",
       "      <th>99</th>\n",
       "      <td>2.504973</td>\n",
       "      <td>3.419756</td>\n",
       "    </tr>\n",
       "  </tbody>\n",
       "</table>\n",
       "<p>100 rows × 2 columns</p>\n",
       "</div>"
      ],
      "text/plain": [
       "           X         y\n",
       "0   5.910131  4.714615\n",
       "1   2.500393  2.076238\n",
       "2   3.946845  2.548811\n",
       "3   7.102233  4.615368\n",
       "4   6.168895  3.264107\n",
       "..       ...       ...\n",
       "95  3.266433  2.894157\n",
       "96  1.526250  2.843770\n",
       "97  5.964676  4.201155\n",
       "98  1.817280  3.626802\n",
       "99  2.504973  3.419756\n",
       "\n",
       "[100 rows x 2 columns]"
      ]
     },
     "execution_count": 7,
     "metadata": {},
     "output_type": "execute_result"
    }
   ],
   "source": [
    "df"
   ]
  },
  {
   "cell_type": "code",
   "execution_count": 8,
   "id": "930fb305",
   "metadata": {},
   "outputs": [
    {
     "data": {
      "image/png": "[encoded data removed]",
      "text/plain": [
       "<Figure size 432x288 with 1 Axes>"
      ]
     },
     "metadata": {
      "needs_background": "light"
     },
     "output_type": "display_data"
    }
   ],
   "source": [
    "plt.plot(X, y, 'ro')   # scatter plot showing actual data\n",
    "plt.title('Actual')\n",
    "plt.xlabel('X')\n",
    "plt.ylabel('y')\n",
    "plt.show()"
   ]
  },
  {
   "cell_type": "code",
   "execution_count": 9,
   "id": "db3a8ad4",
   "metadata": {},
   "outputs": [],
   "source": [
    "# Calculate the mean of X and y\n",
    "xmean = np.mean(X)\n",
    "ymean = np.mean(y)"
   ]
  },
  {
   "cell_type": "code",
   "execution_count": 10,
   "id": "bdf9fce8",
   "metadata": {},
   "outputs": [],
   "source": [
    "XX = list(range(1, 1000+1))"
   ]
  },
  {
   "cell_type": "code",
   "execution_count": 11,
   "id": "f9a1ca77",
   "metadata": {},
   "outputs": [],
   "source": [
    "# Calculate the terms needed for the numator and denominator of beta\n",
    "df['xycov'] = (df['X'] - xmean) * (df['y'] - ymean) #covariance between x and y\n",
    "df['xvar'] = (df['X'] - xmean)**2 #variance of x"
   ]
  },
  {
   "cell_type": "code",
   "execution_count": 12,
   "id": "dfe6c73b",
   "metadata": {},
   "outputs": [
    {
     "data": {
      "text/html": [
       "<div>\n",
       "<style scoped>\n",
       "    .dataframe tbody tr th:only-of-type {\n",
       "        vertical-align: middle;\n",
       "    }\n",
       "\n",
       "    .dataframe tbody tr th {\n",
       "        vertical-align: top;\n",
       "    }\n",
       "\n",
       "    .dataframe thead th {\n",
       "        text-align: right;\n",
       "    }\n",
       "</style>\n",
       "<table border=\"1\" class=\"dataframe\">\n",
       "  <thead>\n",
       "    <tr style=\"text-align: right;\">\n",
       "      <th></th>\n",
       "      <th>X</th>\n",
       "      <th>y</th>\n",
       "      <th>xycov</th>\n",
       "      <th>xvar</th>\n",
       "    </tr>\n",
       "  </thead>\n",
       "  <tbody>\n",
       "    <tr>\n",
       "      <th>0</th>\n",
       "      <td>5.910131</td>\n",
       "      <td>4.714615</td>\n",
       "      <td>9.282815</td>\n",
       "      <td>18.152805</td>\n",
       "    </tr>\n",
       "    <tr>\n",
       "      <th>1</th>\n",
       "      <td>2.500393</td>\n",
       "      <td>2.076238</td>\n",
       "      <td>-0.391082</td>\n",
       "      <td>0.723985</td>\n",
       "    </tr>\n",
       "    <tr>\n",
       "      <th>2</th>\n",
       "      <td>3.946845</td>\n",
       "      <td>2.548811</td>\n",
       "      <td>0.029747</td>\n",
       "      <td>5.277702</td>\n",
       "    </tr>\n",
       "    <tr>\n",
       "      <th>3</th>\n",
       "      <td>7.102233</td>\n",
       "      <td>4.615368</td>\n",
       "      <td>11.338948</td>\n",
       "      <td>29.732079</td>\n",
       "    </tr>\n",
       "    <tr>\n",
       "      <th>4</th>\n",
       "      <td>6.168895</td>\n",
       "      <td>3.264107</td>\n",
       "      <td>3.291209</td>\n",
       "      <td>20.424750</td>\n",
       "    </tr>\n",
       "    <tr>\n",
       "      <th>...</th>\n",
       "      <td>...</td>\n",
       "      <td>...</td>\n",
       "      <td>...</td>\n",
       "      <td>...</td>\n",
       "    </tr>\n",
       "    <tr>\n",
       "      <th>95</th>\n",
       "      <td>3.266433</td>\n",
       "      <td>2.894157</td>\n",
       "      <td>0.579331</td>\n",
       "      <td>2.614407</td>\n",
       "    </tr>\n",
       "    <tr>\n",
       "      <th>96</th>\n",
       "      <td>1.526250</td>\n",
       "      <td>2.843770</td>\n",
       "      <td>-0.037956</td>\n",
       "      <td>0.015195</td>\n",
       "    </tr>\n",
       "    <tr>\n",
       "      <th>97</th>\n",
       "      <td>5.964676</td>\n",
       "      <td>4.201155</td>\n",
       "      <td>7.185997</td>\n",
       "      <td>18.620573</td>\n",
       "    </tr>\n",
       "    <tr>\n",
       "      <th>98</th>\n",
       "      <td>1.817280</td>\n",
       "      <td>3.626802</td>\n",
       "      <td>0.183016</td>\n",
       "      <td>0.028143</td>\n",
       "    </tr>\n",
       "    <tr>\n",
       "      <th>99</th>\n",
       "      <td>2.504973</td>\n",
       "      <td>3.419756</td>\n",
       "      <td>0.756130</td>\n",
       "      <td>0.731800</td>\n",
       "    </tr>\n",
       "  </tbody>\n",
       "</table>\n",
       "<p>100 rows × 4 columns</p>\n",
       "</div>"
      ],
      "text/plain": [
       "           X         y      xycov       xvar\n",
       "0   5.910131  4.714615   9.282815  18.152805\n",
       "1   2.500393  2.076238  -0.391082   0.723985\n",
       "2   3.946845  2.548811   0.029747   5.277702\n",
       "3   7.102233  4.615368  11.338948  29.732079\n",
       "4   6.168895  3.264107   3.291209  20.424750\n",
       "..       ...       ...        ...        ...\n",
       "95  3.266433  2.894157   0.579331   2.614407\n",
       "96  1.526250  2.843770  -0.037956   0.015195\n",
       "97  5.964676  4.201155   7.185997  18.620573\n",
       "98  1.817280  3.626802   0.183016   0.028143\n",
       "99  2.504973  3.419756   0.756130   0.731800\n",
       "\n",
       "[100 rows x 4 columns]"
      ]
     },
     "execution_count": 12,
     "metadata": {},
     "output_type": "execute_result"
    }
   ],
   "source": [
    "df"
   ]
  },
  {
   "cell_type": "code",
   "execution_count": 13,
   "id": "90be0188",
   "metadata": {},
   "outputs": [],
   "source": [
    "# Calculate beta and alpha\n",
    "beta = df['xycov'].sum() / df['xvar'].sum()\n",
    "alpha = ymean - (beta * xmean)"
   ]
  },
  {
   "cell_type": "code",
   "execution_count": 14,
   "id": "0565f066",
   "metadata": {},
   "outputs": [
    {
     "data": {
      "text/plain": [
       "2.0031670124623426"
      ]
     },
     "execution_count": 14,
     "metadata": {},
     "output_type": "execute_result"
    }
   ],
   "source": [
    "alpha"
   ]
  },
  {
   "cell_type": "code",
   "execution_count": 18,
   "id": "02acab51",
   "metadata": {},
   "outputs": [],
   "source": [
    "ypred = beta*X + alpha"
   ]
  },
  {
   "cell_type": "code",
   "execution_count": 19,
   "id": "a880218c",
   "metadata": {},
   "outputs": [
    {
     "data": {
      "text/plain": [
       "array([3.91178282, 2.81064315, 3.27775989, 4.29675991, 3.99534802,\n",
       "       1.69857201, 3.25462968, 2.36537842, 2.40424288, 2.81907292,\n",
       "       2.60387001, 3.66168312, 3.10199975, 2.58581077, 2.84592918,\n",
       "       2.75696825, 3.69382011, 2.32194218, 2.74033151, 1.79802302,\n",
       "       0.42642221, 3.015275  , 3.18547843, 1.88839019, 4.32006116,\n",
       "       1.31339555, 2.52451965, 2.33645381, 3.72506464, 3.67386219,\n",
       "       2.61267323, 2.79288576, 1.77082341, 0.88838207, 2.20668994,\n",
       "       2.61380476, 3.48085076, 3.45831697, 2.17486854, 2.24351265,\n",
       "       1.64102813, 1.34112617, 1.11002064, 4.06253353, 2.07610925,\n",
       "       2.1338976 , 1.47613319, 3.11528277, 1.18459738, 2.31582084,\n",
       "       1.76462232, 2.79994197, 2.07517841, 1.53439407, 2.46482364,\n",
       "       2.83338994, 2.54127917, 2.73177699, 1.9754571 , 2.19471775,\n",
       "       1.94466613, 2.19729158, 1.83108353, 1.09386364, 2.6308214 ,\n",
       "       2.16319902, 1.17143718, 2.86120343, 1.75506992, 2.52951462,\n",
       "       3.07620724, 2.59171079, 3.40747079, 1.49064088, 2.81240675,\n",
       "       1.93469565, 1.78453915, 2.02024272, 2.23604485, 2.53292159,\n",
       "       1.54689373, 3.2148581 , 2.86352875, 1.24729141, 3.68911579,\n",
       "       4.01822118, 3.43926331, 2.34231437, 1.62310525, 3.33888732,\n",
       "       2.16207195, 3.47451661, 2.65572718, 3.2760653 , 2.77528867,\n",
       "       3.05802784, 2.49605373, 3.92939769, 2.59003892, 2.81212234])"
      ]
     },
     "execution_count": 19,
     "metadata": {},
     "output_type": "execute_result"
    }
   ],
   "source": [
    "ypred"
   ]
  },
  {
   "cell_type": "code",
   "execution_count": 20,
   "id": "3241dcb8",
   "metadata": {},
   "outputs": [],
   "source": [
    "def predict(value):\n",
    "    # value = x\n",
    "    for i in range(value):\n",
    "        # straight line = m*x+y\n",
    "       print(i, ':', beta * i + alpha)\n"
   ]
  },
  {
   "cell_type": "markdown",
   "id": "2bd0e8ea",
   "metadata": {},
   "source": [
    "# Introduction to Linear Regression in Python\n"
   ]
  },
  {
   "cell_type": "code",
   "execution_count": 21,
   "id": "eba2039b",
   "metadata": {},
   "outputs": [
    {
     "data": {
      "text/plain": [
       "<Figure size 1584x1152 with 0 Axes>"
      ]
     },
     "execution_count": 21,
     "metadata": {},
     "output_type": "execute_result"
    },
    {
     "data": {
      "text/plain": [
       "<Figure size 1584x1152 with 0 Axes>"
      ]
     },
     "metadata": {},
     "output_type": "display_data"
    }
   ],
   "source": [
    "plt.figure(figsize=(22, 16))"
   ]
  },
  {
   "cell_type": "code",
   "execution_count": 22,
   "id": "80033a5e",
   "metadata": {},
   "outputs": [
    {
     "data": {
      "image/png": "[encoded data removed]",
      "text/plain": [
       "<Figure size 432x288 with 1 Axes>"
      ]
     },
     "metadata": {
      "needs_background": "light"
     },
     "output_type": "display_data"
    }
   ],
   "source": [
    "plt.plot(X, y, 'ro')   # scatter plot showing actual data\n",
    "plt.plot(X, ypred)     # regression line\n",
    "plt.title('Actual vs Predicted')\n",
    "plt.xlabel('X')\n",
    "plt.ylabel('y')\n",
    "plt.show()"
   ]
  },
  {
   "cell_type": "code",
   "execution_count": 23,
   "id": "426d8f25",
   "metadata": {},
   "outputs": [
    {
     "name": "stdout",
     "output_type": "stream",
     "text": [
      "0 : 2.0031670124623426\n",
      "1 : 2.326106699171619\n",
      "2 : 2.6490463858808955\n",
      "3 : 2.9719860725901714\n",
      "4 : 3.294925759299448\n",
      "5 : 3.6178654460087243\n",
      "6 : 3.9408051327180003\n",
      "7 : 4.263744819427277\n",
      "8 : 4.586684506136553\n",
      "9 : 4.909624192845829\n",
      "10 : 5.232563879555106\n",
      "11 : 5.555503566264382\n"
     ]
    }
   ],
   "source": [
    "predict(12)"
   ]
  },
  {
   "cell_type": "code",
   "execution_count": null,
   "id": "63cc554e",
   "metadata": {
    "scrolled": true
   },
   "outputs": [],
   "source": []
  },
  {
   "cell_type": "code",
   "execution_count": null,
   "id": "8553d182",
   "metadata": {
    "scrolled": true
   },
   "outputs": [],
   "source": []
  },
  {
   "cell_type": "code",
   "execution_count": null,
   "id": "1de8c2af",
   "metadata": {},
   "outputs": [],
   "source": []
  },
  {
   "cell_type": "code",
   "execution_count": null,
   "id": "95577f73",
   "metadata": {},
   "outputs": [],
   "source": []
  },
  {
   "cell_type": "code",
   "execution_count": null,
   "id": "c6eafbac",
   "metadata": {},
   "outputs": [],
   "source": []
  },
  {
   "cell_type": "code",
   "execution_count": null,
   "id": "c42316cb",
   "metadata": {},
   "outputs": [],
   "source": []
  }
 ],
 "metadata": {
  "kernelspec": {
   "display_name": "Python 3 (ipykernel)",
   "language": "python",
   "name": "python3"
  },
  "language_info": {
   "codemirror_mode": {
    "name": "ipython",
    "version": 3
   },
   "file_extension": ".py",
   "mimetype": "text/x-python",
   "name": "python",
   "nbconvert_exporter": "python",
   "pygments_lexer": "ipython3",
   "version": "3.9.13"
  }
 },
 "nbformat": 4,
 "nbformat_minor": 5
}
