{
 "cells": [
  {
   "cell_type": "code",
   "execution_count": 1,
   "id": "1ab93800",
   "metadata": {},
   "outputs": [],
   "source": [
    "import pandas as pd\n",
    "import numpy as np\n",
    "from matplotlib import pyplot as plt\n",
    "from matplotlib import colors\n",
    "from sklearn import linear_model"
   ]
  },
  {
   "cell_type": "code",
   "execution_count": 2,
   "id": "a8617111",
   "metadata": {},
   "outputs": [],
   "source": [
    "np.random.seed(1)\n",
    "X = 1.5 * np.random.randn(100) + 10.5   \n",
    "res = 0.5 * np.random.randn(100)      \n",
    "y = 20 + 0.3 * X  + res "
   ]
  },
  {
   "cell_type": "code",
   "execution_count": 3,
   "id": "1eed132b",
   "metadata": {},
   "outputs": [],
   "source": [
    "df = pd.DataFrame({'StudyTime': X,'Score': y})"
   ]
  },
  {
   "cell_type": "code",
   "execution_count": 147,
   "id": "f779c60a",
   "metadata": {},
   "outputs": [
    {
     "data": {
      "text/html": [
       "<div>\n",
       "<style scoped>\n",
       "    .dataframe tbody tr th:only-of-type {\n",
       "        vertical-align: middle;\n",
       "    }\n",
       "\n",
       "    .dataframe tbody tr th {\n",
       "        vertical-align: top;\n",
       "    }\n",
       "\n",
       "    .dataframe thead th {\n",
       "        text-align: right;\n",
       "    }\n",
       "</style>\n",
       "<table border=\"1\" class=\"dataframe\">\n",
       "  <thead>\n",
       "    <tr style=\"text-align: right;\">\n",
       "      <th></th>\n",
       "      <th>StudyTime</th>\n",
       "      <th>Score</th>\n",
       "    </tr>\n",
       "  </thead>\n",
       "  <tbody>\n",
       "    <tr>\n",
       "      <th>0</th>\n",
       "      <td>12.936518</td>\n",
       "      <td>23.657391</td>\n",
       "    </tr>\n",
       "    <tr>\n",
       "      <th>1</th>\n",
       "      <td>9.582365</td>\n",
       "      <td>23.486963</td>\n",
       "    </tr>\n",
       "    <tr>\n",
       "      <th>2</th>\n",
       "      <td>9.707742</td>\n",
       "      <td>23.114069</td>\n",
       "    </tr>\n",
       "    <tr>\n",
       "      <th>3</th>\n",
       "      <td>8.890547</td>\n",
       "      <td>22.963953</td>\n",
       "    </tr>\n",
       "    <tr>\n",
       "      <th>4</th>\n",
       "      <td>11.798111</td>\n",
       "      <td>22.991978</td>\n",
       "    </tr>\n",
       "    <tr>\n",
       "      <th>...</th>\n",
       "      <td>...</td>\n",
       "      <td>...</td>\n",
       "    </tr>\n",
       "    <tr>\n",
       "      <th>95</th>\n",
       "      <td>10.616010</td>\n",
       "      <td>22.371084</td>\n",
       "    </tr>\n",
       "    <tr>\n",
       "      <th>96</th>\n",
       "      <td>9.984219</td>\n",
       "      <td>23.296425</td>\n",
       "    </tr>\n",
       "    <tr>\n",
       "      <th>97</th>\n",
       "      <td>10.565395</td>\n",
       "      <td>23.379760</td>\n",
       "    </tr>\n",
       "    <tr>\n",
       "      <th>98</th>\n",
       "      <td>9.569999</td>\n",
       "      <td>23.276475</td>\n",
       "    </tr>\n",
       "    <tr>\n",
       "      <th>99</th>\n",
       "      <td>11.547048</td>\n",
       "      <td>23.986335</td>\n",
       "    </tr>\n",
       "  </tbody>\n",
       "</table>\n",
       "<p>100 rows × 2 columns</p>\n",
       "</div>"
      ],
      "text/plain": [
       "    StudyTime      Score\n",
       "0   12.936518  23.657391\n",
       "1    9.582365  23.486963\n",
       "2    9.707742  23.114069\n",
       "3    8.890547  22.963953\n",
       "4   11.798111  22.991978\n",
       "..        ...        ...\n",
       "95  10.616010  22.371084\n",
       "96   9.984219  23.296425\n",
       "97  10.565395  23.379760\n",
       "98   9.569999  23.276475\n",
       "99  11.547048  23.986335\n",
       "\n",
       "[100 rows x 2 columns]"
      ]
     },
     "execution_count": 147,
     "metadata": {},
     "output_type": "execute_result"
    }
   ],
   "source": [
    "df"
   ]
  },
  {
   "cell_type": "code",
   "execution_count": 148,
   "id": "bf3d1165",
   "metadata": {},
   "outputs": [
    {
     "data": {
      "text/plain": [
       "13.778363109799741"
      ]
     },
     "execution_count": 148,
     "metadata": {},
     "output_type": "execute_result"
    }
   ],
   "source": [
    "max(X)\n"
   ]
  },
  {
   "cell_type": "code",
   "execution_count": 149,
   "id": "047e6237",
   "metadata": {},
   "outputs": [
    {
     "data": {
      "text/plain": [
       "7.047691954679576"
      ]
     },
     "execution_count": 149,
     "metadata": {},
     "output_type": "execute_result"
    }
   ],
   "source": [
    "min(X)"
   ]
  },
  {
   "cell_type": "code",
   "execution_count": 150,
   "id": "24614eb6",
   "metadata": {},
   "outputs": [
    {
     "data": {
      "text/plain": [
       "25.228858797424788"
      ]
     },
     "execution_count": 150,
     "metadata": {},
     "output_type": "execute_result"
    }
   ],
   "source": [
    "max(y)"
   ]
  },
  {
   "cell_type": "code",
   "execution_count": 151,
   "id": "27ef7fec",
   "metadata": {},
   "outputs": [
    {
     "data": {
      "text/plain": [
       "21.57339618758479"
      ]
     },
     "execution_count": 151,
     "metadata": {},
     "output_type": "execute_result"
    }
   ],
   "source": [
    "min(y)"
   ]
  },
  {
   "cell_type": "code",
   "execution_count": 152,
   "id": "1dc3abe6",
   "metadata": {
    "scrolled": true
   },
   "outputs": [
    {
     "data": {
      "image/png": "[encoded data removed]",
      "text/plain": [
       "<Figure size 432x288 with 1 Axes>"
      ]
     },
     "metadata": {
      "needs_background": "light"
     },
     "output_type": "display_data"
    }
   ],
   "source": [
    "plt.plot(X, y, 'ro')\n",
    "plt.title('Actual')\n",
    "plt.xlabel('X')\n",
    "plt.ylabel('y')\n",
    "plt.show()"
   ]
  },
  {
   "cell_type": "code",
   "execution_count": 153,
   "id": "36242649",
   "metadata": {},
   "outputs": [],
   "source": [
    "def loss_function(m, b, points):\n",
    "    total_error =0\n",
    "    for i in range(len(points)):\n",
    "        x=points.iloc[i].StudyTime\n",
    "        yy=points.iloc[i].Score\n",
    "        total_error += (yy-(m*x+b))**2\n",
    "    return total_error/ float(len(points))    \n",
    "    \n",
    "    "
   ]
  },
  {
   "cell_type": "code",
   "execution_count": 154,
   "id": "506ff154",
   "metadata": {},
   "outputs": [],
   "source": [
    "def gradient_descent(m_now,b_now,points,L):\n",
    "    m_gradient =0\n",
    "    b_gradient =0\n",
    "    n=len(points)\n",
    "    \n",
    "    for i in range(n):\n",
    "        x=points.iloc[i].StudyTime\n",
    "        yy= points.iloc[i].Score\n",
    "        \n",
    "        m_gradient += -(2/n)*x*(yy-(m_now*x+b_now))\n",
    "        b_gradient += -(2/n)* (yy-(m_now*x+b_now))\n",
    "        \n",
    "    m = m_now - m_gradient *L\n",
    "    b = b_now - b_gradient *L\n",
    "    return m,b\n",
    "    "
   ]
  },
  {
   "cell_type": "code",
   "execution_count": 155,
   "id": "ec743885",
   "metadata": {},
   "outputs": [],
   "source": [
    "m =0\n",
    "b =0\n",
    "L=0.001  #try 0.008 and 0.009\n",
    "epochs =500"
   ]
  },
  {
   "cell_type": "code",
   "execution_count": 156,
   "id": "8cf7f3da",
   "metadata": {},
   "outputs": [
    {
     "name": "stdout",
     "output_type": "stream",
     "text": [
      "Epoch: 0\n",
      "0 0\n",
      "Epoch: 50\n",
      "2.1456786725894013 0.22970093690222673\n",
      "Epoch: 100\n",
      "2.1429027165833894 0.25960854307830755\n",
      "Epoch: 150\n",
      "2.140126436211079 0.2894698771913949\n",
      "Epoch: 200\n",
      "2.137354411673319 0.31928543595944764\n",
      "Epoch: 250\n",
      "2.134586636455991 0.3490552895537885\n",
      "Epoch: 300\n",
      "2.131823104045181 0.37877950803726357\n",
      "Epoch: 350\n",
      "2.129063807936964 0.4084581613653174\n",
      "Epoch: 400\n",
      "2.126308741637382 0.43809131938615775\n",
      "Epoch: 450\n",
      "2.1235578986624333 0.4676790518409201\n"
     ]
    }
   ],
   "source": [
    "for i in range(epochs):\n",
    "    if i% 50 == 0:\n",
    "        print(f\"Epoch: {i}\")\n",
    "        print(m,b)\n",
    "    m,b = gradient_descent(m,b,df,L)\n",
    "    \n",
    "#print(m,b)"
   ]
  },
  {
   "cell_type": "code",
   "execution_count": 157,
   "id": "8e9bc48c",
   "metadata": {},
   "outputs": [],
   "source": [
    "#m=1.11\n",
    "#b=8\n",
    "ypred = m*X + b"
   ]
  },
  {
   "cell_type": "code",
   "execution_count": 158,
   "id": "4da0cbfb",
   "metadata": {},
   "outputs": [
    {
     "data": {
      "text/plain": [
       "5.944652078731764"
      ]
     },
     "execution_count": 158,
     "metadata": {},
     "output_type": "execute_result"
    }
   ],
   "source": [
    "z=loss_function(m, b, df)\n",
    "z"
   ]
  },
  {
   "cell_type": "code",
   "execution_count": 159,
   "id": "5d40d1de",
   "metadata": {},
   "outputs": [
    {
     "data": {
      "text/plain": [
       "12.936518045494863"
      ]
     },
     "execution_count": 159,
     "metadata": {},
     "output_type": "execute_result"
    }
   ],
   "source": [
    "df.iloc[0].StudyTime\n"
   ]
  },
  {
   "cell_type": "code",
   "execution_count": 160,
   "id": "ad71263e",
   "metadata": {},
   "outputs": [
    {
     "data": {
      "text/plain": [
       "27.93313472664132"
      ]
     },
     "execution_count": 160,
     "metadata": {},
     "output_type": "execute_result"
    }
   ],
   "source": [
    "z= df.iloc[0].StudyTime *m + b\n",
    "z"
   ]
  },
  {
   "cell_type": "code",
   "execution_count": 161,
   "id": "38a330c3",
   "metadata": {},
   "outputs": [
    {
     "data": {
      "image/png": "[encoded data removed]",
      "text/plain": [
       "<Figure size 432x288 with 1 Axes>"
      ]
     },
     "metadata": {
      "needs_background": "light"
     },
     "output_type": "display_data"
    }
   ],
   "source": [
    "plt.scatter(df.StudyTime,df.Score,color=\"black\")\n",
    "#plt.plot(list(range(6,14)),[m*x+b for x in range(6,14)], color=\"red\")\n",
    "plt.show()"
   ]
  },
  {
   "cell_type": "code",
   "execution_count": 162,
   "id": "16a0c24c",
   "metadata": {},
   "outputs": [
    {
     "data": {
      "image/png": "[encoded data removed]",
      "text/plain": [
       "<Figure size 432x288 with 1 Axes>"
      ]
     },
     "metadata": {
      "needs_background": "light"
     },
     "output_type": "display_data"
    }
   ],
   "source": [
    "plt.plot(X, ypred)     # regression line\n",
    "plt.show()"
   ]
  },
  {
   "cell_type": "code",
   "execution_count": 163,
   "id": "cbdda880",
   "metadata": {},
   "outputs": [
    {
     "data": {
      "image/png": "[encoded data removed]",
      "text/plain": [
       "<Figure size 864x432 with 1 Axes>"
      ]
     },
     "metadata": {
      "needs_background": "light"
     },
     "output_type": "display_data"
    }
   ],
   "source": [
    "plt.figure(figsize=(12, 6))\n",
    "plt.plot(X, y, 'ro')   # scatter plot showing actual data\n",
    "plt.plot(X, ypred)     # regression line\n",
    "plt.title('Actual vs Predicted')\n",
    "plt.xlabel('X')\n",
    "plt.ylabel('y')\n",
    "plt.show()"
   ]
  },
  {
   "cell_type": "code",
   "execution_count": 164,
   "id": "c815edd7",
   "metadata": {},
   "outputs": [],
   "source": [
    "def predict(value):\n",
    "    #value = X\n",
    "    for i in range(value):\n",
    "        # straight line = m*x+y\n",
    "       print(i, ':',df.iloc[i].StudyTime,':',df.iloc[i].Score,':', m * df.iloc[i].StudyTime + b,':',ypred[i])"
   ]
  },
  {
   "cell_type": "code",
   "execution_count": 468,
   "id": "ee0f6098",
   "metadata": {},
   "outputs": [
    {
     "name": "stdout",
     "output_type": "stream",
     "text": [
      "0 : 13.146078518951496 : 24.135189770691582 : 14.592147156036162 : 14.592147156036162\n",
      "1 : 11.100235812550835 : 23.312949603499273 : 12.321261751931429 : 12.321261751931429\n",
      "2 : 11.968106976158609 : 24.13860551568048 : 13.284598743536057 : 13.284598743536057\n",
      "3 : 13.861339798802186 : 24.041294038968385 : 15.386087176670427 : 15.386087176670427\n",
      "4 : 13.301336985224951 : 23.816675769318202 : 14.764484053599697 : 14.764484053599697\n",
      "5 : 9.034083180185384 : 22.419590715625453 : 10.027832330005777 : 10.027832330005777\n",
      "6 : 11.925132626288384 : 22.761222524769266 : 13.236897215180107 : 13.236897215180107\n",
      "7 : 10.272964187553454 : 22.298005394111808 : 11.402990248184334 : 11.402990248184334\n",
      "8 : 10.345171722309663 : 22.513972551374057 : 11.483140611763726 : 11.483140611763726\n",
      "9 : 11.115897752907559 : 23.985483361704645 : 12.338646505727391 : 12.338646505727391\n",
      "10 : 10.716065356741318 : 23.66244974346736 : 11.894832545982863 : 11.894832545982863\n",
      "11 : 12.681410260444462 : 24.491905111329835 : 14.076365389093354 : 14.076365389093354\n"
     ]
    }
   ],
   "source": [
    "predict(12)"
   ]
  },
  {
   "cell_type": "code",
   "execution_count": null,
   "id": "4257a385",
   "metadata": {},
   "outputs": [],
   "source": []
  },
  {
   "cell_type": "code",
   "execution_count": null,
   "id": "6933bf7e",
   "metadata": {},
   "outputs": [],
   "source": []
  }
 ],
 "metadata": {
  "kernelspec": {
   "display_name": "Python 3 (ipykernel)",
   "language": "python",
   "name": "python3"
  },
  "language_info": {
   "codemirror_mode": {
    "name": "ipython",
    "version": 3
   },
   "file_extension": ".py",
   "mimetype": "text/x-python",
   "name": "python",
   "nbconvert_exporter": "python",
   "pygments_lexer": "ipython3",
   "version": "3.9.13"
  }
 },
 "nbformat": 4,
 "nbformat_minor": 5
}
