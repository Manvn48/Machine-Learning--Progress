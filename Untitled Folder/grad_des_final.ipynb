{
 "cells": [
  {
   "cell_type": "code",
   "execution_count": 20,
   "id": "1ab93800",
   "metadata": {},
   "outputs": [],
   "source": [
    "import pandas as pd\n",
    "import numpy as np\n",
    "from matplotlib import pyplot as plt\n",
    "from matplotlib import colors\n",
    "from sklearn import linear_model"
   ]
  },
  {
   "cell_type": "code",
   "execution_count": 21,
   "id": "a8617111",
   "metadata": {},
   "outputs": [],
   "source": [
    "np.random.seed(1)\n",
    "X = 1.5 * np.random.randn(100) + 10.5   # Array of 1000 values with mean = 1.5, stddev = 2.5\n",
    "res = 0.5 * np.random.randn(100)       # Generate 1000 residual terms\n",
    "y = 20 + 0.3 * X  + res "
   ]
  },
  {
   "cell_type": "code",
   "execution_count": 22,
   "id": "1eed132b",
   "metadata": {},
   "outputs": [],
   "source": [
    "df = pd.DataFrame({'StudyTime': X,'Score': y})"
   ]
  },
  {
   "cell_type": "code",
   "execution_count": 23,
   "id": "f779c60a",
   "metadata": {},
   "outputs": [
    {
     "data": {
      "text/html": [
       "<div>\n",
       "<style scoped>\n",
       "    .dataframe tbody tr th:only-of-type {\n",
       "        vertical-align: middle;\n",
       "    }\n",
       "\n",
       "    .dataframe tbody tr th {\n",
       "        vertical-align: top;\n",
       "    }\n",
       "\n",
       "    .dataframe thead th {\n",
       "        text-align: right;\n",
       "    }\n",
       "</style>\n",
       "<table border=\"1\" class=\"dataframe\">\n",
       "  <thead>\n",
       "    <tr style=\"text-align: right;\">\n",
       "      <th></th>\n",
       "      <th>StudyTime</th>\n",
       "      <th>Score</th>\n",
       "    </tr>\n",
       "  </thead>\n",
       "  <tbody>\n",
       "    <tr>\n",
       "      <th>0</th>\n",
       "      <td>12.936518</td>\n",
       "      <td>23.657391</td>\n",
       "    </tr>\n",
       "    <tr>\n",
       "      <th>1</th>\n",
       "      <td>9.582365</td>\n",
       "      <td>23.486963</td>\n",
       "    </tr>\n",
       "    <tr>\n",
       "      <th>2</th>\n",
       "      <td>9.707742</td>\n",
       "      <td>23.114069</td>\n",
       "    </tr>\n",
       "    <tr>\n",
       "      <th>3</th>\n",
       "      <td>8.890547</td>\n",
       "      <td>22.963953</td>\n",
       "    </tr>\n",
       "    <tr>\n",
       "      <th>4</th>\n",
       "      <td>11.798111</td>\n",
       "      <td>22.991978</td>\n",
       "    </tr>\n",
       "    <tr>\n",
       "      <th>...</th>\n",
       "      <td>...</td>\n",
       "      <td>...</td>\n",
       "    </tr>\n",
       "    <tr>\n",
       "      <th>95</th>\n",
       "      <td>10.616010</td>\n",
       "      <td>22.371084</td>\n",
       "    </tr>\n",
       "    <tr>\n",
       "      <th>96</th>\n",
       "      <td>9.984219</td>\n",
       "      <td>23.296425</td>\n",
       "    </tr>\n",
       "    <tr>\n",
       "      <th>97</th>\n",
       "      <td>10.565395</td>\n",
       "      <td>23.379760</td>\n",
       "    </tr>\n",
       "    <tr>\n",
       "      <th>98</th>\n",
       "      <td>9.569999</td>\n",
       "      <td>23.276475</td>\n",
       "    </tr>\n",
       "    <tr>\n",
       "      <th>99</th>\n",
       "      <td>11.547048</td>\n",
       "      <td>23.986335</td>\n",
       "    </tr>\n",
       "  </tbody>\n",
       "</table>\n",
       "<p>100 rows × 2 columns</p>\n",
       "</div>"
      ],
      "text/plain": [
       "    StudyTime      Score\n",
       "0   12.936518  23.657391\n",
       "1    9.582365  23.486963\n",
       "2    9.707742  23.114069\n",
       "3    8.890547  22.963953\n",
       "4   11.798111  22.991978\n",
       "..        ...        ...\n",
       "95  10.616010  22.371084\n",
       "96   9.984219  23.296425\n",
       "97  10.565395  23.379760\n",
       "98   9.569999  23.276475\n",
       "99  11.547048  23.986335\n",
       "\n",
       "[100 rows x 2 columns]"
      ]
     },
     "execution_count": 23,
     "metadata": {},
     "output_type": "execute_result"
    }
   ],
   "source": [
    "df"
   ]
  },
  {
   "cell_type": "code",
   "execution_count": 24,
   "id": "0ee6cc6b",
   "metadata": {},
   "outputs": [
    {
     "data": {
      "text/plain": [
       "array([12.93651805,  9.58236538,  9.70774237,  8.89054707, 11.79811144,\n",
       "        7.04769195, 13.11721765,  9.35818965, 10.97855864, 10.12594444,\n",
       "       12.69316191,  7.40978894, 10.01637419,  9.92391847, 12.20065416,\n",
       "        8.8501631 , 10.24135769,  9.18321237, 10.56332062, 11.37422282,\n",
       "        8.84907123, 12.21708556, 11.85238608, 11.25374151, 11.85128392,\n",
       "        9.47440821, 10.31566466,  9.09634585, 10.09816788, 11.2955332 ,\n",
       "        9.46250887,  9.90486971,  9.46924095,  9.23219154,  9.4931308 ,\n",
       "       10.4810031 ,  8.82403448, 10.85162355, 12.98970327, 11.61306624,\n",
       "       10.21224667,  9.16855655,  9.37926256, 13.0386819 , 10.57621163,\n",
       "        9.54450653, 10.78637323, 13.6503827 , 10.68023843, 11.42580466,\n",
       "       10.95025548,  9.97162523,  8.7862227 ,  9.97598592, 10.18665865,\n",
       "       11.37993479, 11.75847512, 11.89665312, 10.92838099, 11.82771175,\n",
       "        9.36840309, 12.37930223, 11.26939473, 10.05286075, 11.23277722,\n",
       "       10.38664243, 12.19744408, 12.77972522, 13.77836311,  8.4052555 ,\n",
       "        8.33382929,  9.74330121, 10.7400556 , 11.81425338, 10.97345242,\n",
       "        7.46669818, 10.04069398, 11.74196196, 10.8451421 , 11.64301677,\n",
       "       10.16650779, 10.1988629 , 10.77984209, 11.11507747, 10.79744958,\n",
       "       10.67851297,  9.49400657, 11.06634568, 10.68273191, 12.19422586,\n",
       "       12.29837682, 10.77773463,  9.93707257,  9.54190439, 11.13524153,\n",
       "       10.6160101 ,  9.98421949, 10.56539529,  9.56999873, 11.54704805])"
      ]
     },
     "execution_count": 24,
     "metadata": {},
     "output_type": "execute_result"
    }
   ],
   "source": [
    "X"
   ]
  },
  {
   "cell_type": "code",
   "execution_count": null,
   "id": "88073401",
   "metadata": {},
   "outputs": [],
   "source": []
  },
  {
   "cell_type": "code",
   "execution_count": 25,
   "id": "eff04b79",
   "metadata": {},
   "outputs": [
    {
     "data": {
      "text/plain": [
       "100"
      ]
     },
     "execution_count": 25,
     "metadata": {},
     "output_type": "execute_result"
    }
   ],
   "source": [
    "len(X)"
   ]
  },
  {
   "cell_type": "code",
   "execution_count": 26,
   "id": "bf3d1165",
   "metadata": {
    "scrolled": true
   },
   "outputs": [
    {
     "data": {
      "text/plain": [
       "13.778363109799741"
      ]
     },
     "execution_count": 26,
     "metadata": {},
     "output_type": "execute_result"
    }
   ],
   "source": [
    "max(X)\n"
   ]
  },
  {
   "cell_type": "code",
   "execution_count": 27,
   "id": "047e6237",
   "metadata": {},
   "outputs": [
    {
     "data": {
      "text/plain": [
       "7.047691954679576"
      ]
     },
     "execution_count": 27,
     "metadata": {},
     "output_type": "execute_result"
    }
   ],
   "source": [
    "min(X)"
   ]
  },
  {
   "cell_type": "code",
   "execution_count": 28,
   "id": "24614eb6",
   "metadata": {},
   "outputs": [
    {
     "data": {
      "text/plain": [
       "25.228858797424788"
      ]
     },
     "execution_count": 28,
     "metadata": {},
     "output_type": "execute_result"
    }
   ],
   "source": [
    "max(y)"
   ]
  },
  {
   "cell_type": "code",
   "execution_count": 29,
   "id": "27ef7fec",
   "metadata": {},
   "outputs": [
    {
     "data": {
      "text/plain": [
       "21.57339618758479"
      ]
     },
     "execution_count": 29,
     "metadata": {},
     "output_type": "execute_result"
    }
   ],
   "source": [
    "min(y)"
   ]
  },
  {
   "cell_type": "code",
   "execution_count": null,
   "id": "1dc3abe6",
   "metadata": {
    "scrolled": true
   },
   "outputs": [],
   "source": []
  },
  {
   "cell_type": "code",
   "execution_count": 39,
   "id": "36242649",
   "metadata": {},
   "outputs": [
    {
     "name": "stdout",
     "output_type": "stream",
     "text": [
      "Epoch 0/500, Loss: 541.1421460829225\n",
      "Epoch 100/500, Loss: 6.087021469514765\n",
      "Epoch 200/500, Loss: 6.051100840085123\n",
      "Epoch 300/500, Loss: 6.015399960005117\n",
      "Epoch 400/500, Loss: 5.9799174849281265\n",
      "2.1208112725380563 0.497221428363831\n"
     ]
    }
   ],
   "source": [
    "\n",
    "m=0\n",
    "c=0\n",
    "L=0.001\n",
    "epochs = 500\n",
    "n=len(X)\n",
    "for i in range(epochs):\n",
    "    y_pred = m*X + c\n",
    "    \n",
    "    D_m = (-2/n)*sum(X*(y-y_pred))\n",
    "    D_c = (-2/n)*sum(y-y_pred)\n",
    "    \n",
    "    m = m - L * D_m  \n",
    "    c = c - L * D_c\n",
    "    \n",
    "    loss = np.mean((y - y_pred) ** 2)\n",
    "    \n",
    "    if i % 100 == 0:\n",
    "        print(f\"Epoch {i}/{epochs}, Loss: {loss}\")\n",
    "    \n",
    "print(m,c)"
   ]
  },
  {
   "cell_type": "code",
   "execution_count": 38,
   "id": "506ff154",
   "metadata": {
    "scrolled": true
   },
   "outputs": [
    {
     "data": {
      "image/png": "[encoded data removed]",
      "text/plain": [
       "<Figure size 640x480 with 1 Axes>"
      ]
     },
     "metadata": {},
     "output_type": "display_data"
    }
   ],
   "source": [
    "y_pred = m*X + c\n",
    "\n",
    "plt.scatter(X, y) \n",
    "plt.title('Actual vs Predicted')\n",
    "plt.plot([min(X), max(X)], [min(y_pred), max(y_pred)], color='red')  # regression line\n",
    "plt.show()"
   ]
  },
  {
   "cell_type": "code",
   "execution_count": 1,
   "id": "ec743885",
   "metadata": {},
   "outputs": [],
   "source": []
  },
  {
   "cell_type": "code",
   "execution_count": null,
   "id": "8cf7f3da",
   "metadata": {},
   "outputs": [],
   "source": []
  },
  {
   "cell_type": "code",
   "execution_count": null,
   "id": "8e9bc48c",
   "metadata": {},
   "outputs": [],
   "source": []
  },
  {
   "cell_type": "code",
   "execution_count": null,
   "id": "4da0cbfb",
   "metadata": {},
   "outputs": [],
   "source": []
  },
  {
   "cell_type": "code",
   "execution_count": null,
   "id": "5d40d1de",
   "metadata": {},
   "outputs": [],
   "source": []
  },
  {
   "cell_type": "code",
   "execution_count": null,
   "id": "ad71263e",
   "metadata": {},
   "outputs": [],
   "source": []
  },
  {
   "cell_type": "code",
   "execution_count": null,
   "id": "38a330c3",
   "metadata": {},
   "outputs": [],
   "source": []
  },
  {
   "cell_type": "code",
   "execution_count": null,
   "id": "16a0c24c",
   "metadata": {},
   "outputs": [],
   "source": []
  },
  {
   "cell_type": "code",
   "execution_count": null,
   "id": "cbdda880",
   "metadata": {},
   "outputs": [],
   "source": []
  },
  {
   "cell_type": "code",
   "execution_count": null,
   "id": "c815edd7",
   "metadata": {},
   "outputs": [],
   "source": []
  },
  {
   "cell_type": "code",
   "execution_count": null,
   "id": "ee0f6098",
   "metadata": {},
   "outputs": [],
   "source": []
  },
  {
   "cell_type": "code",
   "execution_count": null,
   "id": "4257a385",
   "metadata": {},
   "outputs": [],
   "source": []
  },
  {
   "cell_type": "code",
   "execution_count": null,
   "id": "6933bf7e",
   "metadata": {},
   "outputs": [],
   "source": []
  }
 ],
 "metadata": {
  "kernelspec": {
   "display_name": "Python 3 (ipykernel)",
   "language": "python",
   "name": "python3"
  },
  "language_info": {
   "codemirror_mode": {
    "name": "ipython",
    "version": 3
   },
   "file_extension": ".py",
   "mimetype": "text/x-python",
   "name": "python",
   "nbconvert_exporter": "python",
   "pygments_lexer": "ipython3",
   "version": "3.9.13"
  }
 },
 "nbformat": 4,
 "nbformat_minor": 5
}
