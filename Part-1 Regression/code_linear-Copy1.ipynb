{
 "cells": [
  {
   "cell_type": "code",
   "execution_count": 27,
   "id": "1b7cb684",
   "metadata": {},
   "outputs": [],
   "source": [
    "import numpy as np\n",
    "import matplotlib.pyplot as plt\n"
   ]
  },
  {
   "cell_type": "code",
   "execution_count": 82,
   "id": "a9969333",
   "metadata": {},
   "outputs": [
    {
     "name": "stdout",
     "output_type": "stream",
     "text": [
      "[ 1  2  3  4  5  6  7  8  9 10]\n",
      "[ 9  8 11 12 11 13 14 15 16 17]\n"
     ]
    }
   ],
   "source": [
    "# Question 1\n",
    "x = np.array([1,2,3,4,5,6,7,8,9,10])\n",
    "y = np.array([9,8,11,12,11,13,14,15,16,17])\n",
    "\n",
    "print(x)\n",
    "print(y)\n"
   ]
  },
  {
   "cell_type": "code",
   "execution_count": 83,
   "id": "21461e11",
   "metadata": {},
   "outputs": [],
   "source": [
    "# # x1=np.array([1,2,3])\n",
    "# y1=np.array([1,2,3])\n",
    "# sum(y1)**2\n",
    "# # sum(x1*y1)"
   ]
  },
  {
   "cell_type": "code",
   "execution_count": 84,
   "id": "491b5c5c",
   "metadata": {},
   "outputs": [
    {
     "data": {
      "text/plain": [
       "771"
      ]
     },
     "execution_count": 84,
     "metadata": {},
     "output_type": "execute_result"
    }
   ],
   "source": [
    "sum(x*y)\n"
   ]
  },
  {
   "cell_type": "code",
   "execution_count": null,
   "id": "6fc42b7d",
   "metadata": {},
   "outputs": [],
   "source": []
  },
  {
   "cell_type": "code",
   "execution_count": 85,
   "id": "fb0d7adb",
   "metadata": {},
   "outputs": [],
   "source": [
    "# # Question 2\n",
    "# X = np.array([158,166,163,165,167,170,167,172,177,181])\n",
    "# Y = np.array([163,158,167,170,160,180,170,175,172,175])\n",
    "\n",
    "# print(X)\n",
    "# print(Y)\n"
   ]
  },
  {
   "cell_type": "code",
   "execution_count": 86,
   "id": "be1de4ad",
   "metadata": {},
   "outputs": [],
   "source": [
    "# y= a1 + a2*x + b"
   ]
  },
  {
   "cell_type": "code",
   "execution_count": 87,
   "id": "3d82e4ae",
   "metadata": {},
   "outputs": [
    {
     "data": {
      "text/plain": [
       "0.9454545454545454"
      ]
     },
     "execution_count": 87,
     "metadata": {},
     "output_type": "execute_result"
    }
   ],
   "source": [
    "# Regression coefficient of y on x\n",
    "\n",
    "a1 = (n*sum(x*y)-sum(x)*sum(y)) / (n*sum(x*x)-sum(x)**2) #regression y on x\n",
    "a1\n"
   ]
  },
  {
   "cell_type": "code",
   "execution_count": 91,
   "id": "0ebfe87a",
   "metadata": {},
   "outputs": [
    {
     "data": {
      "text/plain": [
       "0.9948979591836731"
      ]
     },
     "execution_count": 91,
     "metadata": {},
     "output_type": "execute_result"
    }
   ],
   "source": [
    "a2 = (n*sum(x*y)-sum(x)*sum(y)) / (n*sum(y*y)-sum(y)**2) #regression x on y\n",
    "a2"
   ]
  },
  {
   "cell_type": "code",
   "execution_count": 92,
   "id": "ff34ab44",
   "metadata": {},
   "outputs": [],
   "source": [
    "y = a1 + a2*x"
   ]
  },
  {
   "cell_type": "code",
   "execution_count": 93,
   "id": "18d0f482",
   "metadata": {},
   "outputs": [
    {
     "data": {
      "text/plain": [
       "array([ 1.98979592,  2.98469388,  3.97959184,  4.9744898 ,  5.96938776,\n",
       "        6.96428571,  7.95918367,  8.95408163,  9.94897959, 10.94387755])"
      ]
     },
     "execution_count": 93,
     "metadata": {},
     "output_type": "execute_result"
    }
   ],
   "source": [
    "y"
   ]
  },
  {
   "cell_type": "code",
   "execution_count": null,
   "id": "7e20589f",
   "metadata": {},
   "outputs": [],
   "source": []
  },
  {
   "cell_type": "code",
   "execution_count": null,
   "id": "2d61ee82",
   "metadata": {},
   "outputs": [],
   "source": []
  }
 ],
 "metadata": {
  "kernelspec": {
   "display_name": "Python 3 (ipykernel)",
   "language": "python",
   "name": "python3"
  },
  "language_info": {
   "codemirror_mode": {
    "name": "ipython",
    "version": 3
   },
   "file_extension": ".py",
   "mimetype": "text/x-python",
   "name": "python",
   "nbconvert_exporter": "python",
   "pygments_lexer": "ipython3",
   "version": "3.9.13"
  }
 },
 "nbformat": 4,
 "nbformat_minor": 5
}
