{
 "cells": [
  {
   "cell_type": "code",
   "execution_count": 1,
   "id": "be9f70ce",
   "metadata": {},
   "outputs": [],
   "source": [
    "# Returning Multiple Vales\n",
    "\n",
    "def sum_sub_mul_div(a, b):\n",
    "    c=a + b\n",
    "    d=a-b\n",
    "    e=a*b\n",
    "    f=a/ b\n",
    "    return c, d, e, f"
   ]
  },
  {
   "cell_type": "code",
   "execution_count": 3,
   "id": "ac82e7b7",
   "metadata": {},
   "outputs": [],
   "source": [
    "t= sum_sub_mul_div(20 , 5)"
   ]
  },
  {
   "cell_type": "code",
   "execution_count": 4,
   "id": "44995320",
   "metadata": {},
   "outputs": [
    {
     "name": "stdout",
     "output_type": "stream",
     "text": [
      "The results are : \n",
      "25, 15, 100, 4.0, "
     ]
    }
   ],
   "source": [
    "print(\"The results are : \")\n",
    "for i in t:\n",
    "    print(i,end=', ')"
   ]
  },
  {
   "cell_type": "code",
   "execution_count": null,
   "id": "fe390f68",
   "metadata": {},
   "outputs": [],
   "source": []
  },
  {
   "cell_type": "code",
   "execution_count": 6,
   "id": "3abd1ba1",
   "metadata": {},
   "outputs": [
    {
     "name": "stdout",
     "output_type": "stream",
     "text": [
      "Hello I am Manvendra Singh Rawat\n"
     ]
    }
   ],
   "source": [
    "# Defining a function inside a function \n",
    "\n",
    "def display():\n",
    "    def hello():\n",
    "        return \"Hello I am Manvendra Singh Rawat\"\n",
    "\n",
    "    return hello\n",
    "\n",
    "result=display()\n",
    "print(result())\n"
   ]
  },
  {
   "cell_type": "code",
   "execution_count": null,
   "id": "be3c4c7f",
   "metadata": {},
   "outputs": [],
   "source": []
  },
  {
   "cell_type": "code",
   "execution_count": 21,
   "id": "30c3caf5",
   "metadata": {},
   "outputs": [
    {
     "name": "stdout",
     "output_type": "stream",
     "text": [
      "Formal argumrnts :  10\n",
      "Sum of arguments :  20\n"
     ]
    }
   ],
   "source": [
    "\n",
    "def add(formal , *args):\n",
    "    print(\"Formal arguments passed : \" , formal)\n",
    "    print(\"Sum of arguments  : \", sum(args))\n",
    "\n",
    "add(10,20)\n"
   ]
  },
  {
   "cell_type": "code",
   "execution_count": 22,
   "id": "01cdad3f",
   "metadata": {},
   "outputs": [
    {
     "name": "stdout",
     "output_type": "stream",
     "text": [
      "Formal argumrnts :  5\n",
      "Sum of arguments :  100\n"
     ]
    }
   ],
   "source": [
    "add(5, 10,20,30,40)"
   ]
  },
  {
   "cell_type": "code",
   "execution_count": null,
   "id": "fd16c040",
   "metadata": {},
   "outputs": [],
   "source": []
  },
  {
   "cell_type": "code",
   "execution_count": null,
   "id": "6de12d30",
   "metadata": {},
   "outputs": [],
   "source": []
  }
 ],
 "metadata": {
  "kernelspec": {
   "display_name": "Python 3 (ipykernel)",
   "language": "python",
   "name": "python3"
  },
  "language_info": {
   "codemirror_mode": {
    "name": "ipython",
    "version": 3
   },
   "file_extension": ".py",
   "mimetype": "text/x-python",
   "name": "python",
   "nbconvert_exporter": "python",
   "pygments_lexer": "ipython3",
   "version": "3.9.13"
  }
 },
 "nbformat": 4,
 "nbformat_minor": 5
}
