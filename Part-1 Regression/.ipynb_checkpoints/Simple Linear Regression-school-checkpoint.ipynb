{
 "cells": [
  {
   "cell_type": "code",
   "execution_count": 41,
   "id": "c9801c52",
   "metadata": {},
   "outputs": [],
   "source": [
    "# Imporing libraries\n",
    "import numpy as np\n",
    "import matplotlib.pyplot as plt\n",
    "import pandas as pd"
   ]
  },
  {
   "cell_type": "code",
   "execution_count": 42,
   "id": "15a6440a",
   "metadata": {},
   "outputs": [],
   "source": [
    "data=pd.read_csv('Salary_Data.csv')"
   ]
  },
  {
   "cell_type": "code",
   "execution_count": 48,
   "id": "c1fbd3a8",
   "metadata": {},
   "outputs": [
    {
     "name": "stdout",
     "output_type": "stream",
     "text": [
      "Epoch : 0\n",
      "Epoch : 50\n",
      "6770.751247220646 1107.7159999877676\n"
     ]
    },
    {
     "data": {
      "text/plain": [
       "<matplotlib.collections.PathCollection at 0x1c5c16813a0>"
      ]
     },
     "execution_count": 48,
     "metadata": {},
     "output_type": "execute_result"
    },
    {
     "data": {
      "image/png": "[encoded data removed]",
      "text/plain": [
       "<Figure size 640x480 with 1 Axes>"
      ]
     },
     "metadata": {},
     "output_type": "display_data"
    }
   ],
   "source": [
    "# Loss function to tell us how off from the actual values we are\n",
    "\n",
    "def loss_function(m, b, points):\n",
    "    total_error=0\n",
    "    for i in range(len(points)):\n",
    "        x=points.iloc[i].YearsExperience\n",
    "        y=points.iloc[i].Salary\n",
    "        total_error += y- (m*x + b)**2\n",
    "    total_error/float(len(points))\n",
    "\n",
    "def gradient_descent(m_now,b_now,points,L):\n",
    "    m_gradient =0\n",
    "    b_gradient =0\n",
    "    n=len(points)\n",
    "    \n",
    "    for i in range(n):\n",
    "        x=points.iloc[i].YearsExperience\n",
    "        yy= points.iloc[i].Salary\n",
    "        \n",
    "        m_gradient += -(2/n)*x*(yy-(m_now*x+b_now))\n",
    "        b_gradient += -(2/n)* (yy-(m_now*x+b_now))\n",
    "        \n",
    "    m = m_now - m_gradient *L\n",
    "    b = b_now - b_gradient *L\n",
    "    return m,b\n",
    "    \n",
    "m=0\n",
    "b=0\n",
    "L=0.0001\n",
    "epochs=100\n",
    "\n",
    "\n",
    "for i in range(epochs):\n",
    "    if i % 50==0:\n",
    "        print(f\"Epoch : {i}\")\n",
    "    m , b = gradient_descent(m , b, data , L)\n",
    "\n",
    "print(m, b)\n",
    "\n",
    "plt.scatter(data.YearsExperience, data.Salary , color=\"black\")\n",
    "# plt.plot()\n",
    "# plt.show()\n",
    "\n",
    "\n",
    "# def gradient_descent(m_now , b_now , points ,L):\n",
    "#     m_gradient=0\n",
    "#     b_gradient=0\n",
    "    \n",
    "#     n=len(points)\n",
    "    \n",
    "#     for i in (points):\n",
    "#         x=points.iloc[i].YearsExperience\n",
    "#         y=points.iloc[i].Salary\n",
    "#         m_gradient+= -(2/n) * x * (y-( m_now*x + b_now))\n",
    "#         b_gradient+= -(2/n) * x * (y-( m_now*x + b_now))\n",
    "    \n",
    "#     m = m_now- m_gradient * L\n",
    "#     b = b_now- m_gradient * L\n",
    "    \n",
    "#     return m , b\n"
   ]
  },
  {
   "cell_type": "code",
   "execution_count": null,
   "id": "d35fb7ac",
   "metadata": {},
   "outputs": [],
   "source": []
  },
  {
   "cell_type": "code",
   "execution_count": null,
   "id": "5d5876bc",
   "metadata": {},
   "outputs": [],
   "source": []
  },
  {
   "cell_type": "code",
   "execution_count": null,
   "id": "ffea0c98",
   "metadata": {},
   "outputs": [],
   "source": []
  },
  {
   "cell_type": "code",
   "execution_count": null,
   "id": "08989756",
   "metadata": {},
   "outputs": [],
   "source": []
  },
  {
   "cell_type": "code",
   "execution_count": null,
   "id": "1f625090",
   "metadata": {},
   "outputs": [],
   "source": []
  }
 ],
 "metadata": {
  "kernelspec": {
   "display_name": "Python 3 (ipykernel)",
   "language": "python",
   "name": "python3"
  },
  "language_info": {
   "codemirror_mode": {
    "name": "ipython",
    "version": 3
   },
   "file_extension": ".py",
   "mimetype": "text/x-python",
   "name": "python",
   "nbconvert_exporter": "python",
   "pygments_lexer": "ipython3",
   "version": "3.9.13"
  }
 },
 "nbformat": 4,
 "nbformat_minor": 5
}
